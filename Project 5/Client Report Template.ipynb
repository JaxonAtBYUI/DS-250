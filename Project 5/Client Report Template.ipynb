{
  "cells": [
    {
      "cell_type": "raw",
      "id": "7ceebf36",
      "metadata": {},
      "source": [
        "---\n",
        "title: \"The War with Star Wars\"\n",
        "subtitle: \"Course DS 250\"\n",
        "author: \"Jaxon Hamm\"\n",
        "format:\n",
        "  html:\n",
        "    self-contained: true\n",
        "    page-layout: full\n",
        "    title-block-banner: \"#c4bb00\"\n",
        "    toc: true\n",
        "    toc-depth: 3\n",
        "    toc-location: body\n",
        "    number-sections: false\n",
        "    html-math-method: katex\n",
        "    code-fold: true\n",
        "    code-summary: \"Show the code\"\n",
        "    code-overflow: wrap\n",
        "    code-copy: hover\n",
        "    code-tools:\n",
        "        source: false\n",
        "        toggle: true\n",
        "        caption: See code\n",
        "    \n",
        "---"
      ]
    },
    {
      "cell_type": "code",
      "execution_count": null,
      "id": "libraries",
      "metadata": {},
      "outputs": [],
      "source": [
        "#| label: libraries\n",
        "#| include: false\n",
        "\n",
        "import pandas as pd\n",
        "import altair as alt\n",
        "import numpy as np\n",
        "\n",
        "from IPython.display import Markdown\n",
        "from IPython.display import display\n",
        "from tabulate import tabulate"
      ]
    },
    {
      "cell_type": "markdown",
      "id": "6ea209ab",
      "metadata": {},
      "source": [
        "## Elevator pitch\n",
        "\n",
        "_paste your elevator pitch here_\n"
      ]
    },
    {
      "cell_type": "code",
      "execution_count": null,
      "id": "project-data",
      "metadata": {},
      "outputs": [],
      "source": [
        "#| label: project data\n",
        "#| code-summary: Read and format project data\n",
        "\n",
        "# Read Data"
      ]
    },
    {
      "cell_type": "markdown",
      "id": "06099050",
      "metadata": {},
      "source": [
        "__Highlight the grand questions__\n",
        "\n",
        "## Initial Data Wrangling\n",
        "\n",
        "__Shorten the column names and clean them up for easier use with pandas. Provide a table or list that exemplifies how you fixed the names.__\n",
        "\n",
        "_type your results and analysis here_\n"
      ]
    },
    {
      "cell_type": "code",
      "execution_count": null,
      "id": "GQ1",
      "metadata": {},
      "outputs": [],
      "source": [
        "#| label: GQ1\n",
        "#| code-summary: Format and Filter Data\n",
        "\n",
        "# Include and execute your code here\n"
      ]
    },
    {
      "cell_type": "markdown",
      "id": "b40fa741",
      "metadata": {},
      "source": [
        "_include figures in chunks and discuss your findings in the figure._\n"
      ]
    },
    {
      "cell_type": "code",
      "execution_count": null,
      "id": "GQ1-table",
      "metadata": {},
      "outputs": [],
      "source": [
        "#| label: GQ1 table\n",
        "#| code-summary: table example\n",
        "#| tbl-cap: Not much of a table\n",
        "#| tbl-cap-location: top\n",
        "# Include and execute your code here\n",
        "mydat = dat.head(1000)\\\n",
        "    .groupby('year')\\\n",
        "    .sum()\\\n",
        "    .reset_index()\\\n",
        "    .tail(10)\\\n",
        "    .filter([\"year\", \"AK\",\"AR\"])\n",
        "\n",
        "display(mydat)"
      ]
    },
    {
      "cell_type": "markdown",
      "id": "0da860bb",
      "metadata": {},
      "source": [
        "## GRAND QUESTION 2\n",
        "\n",
        "__Clean and format the data so that it can be used in a machine learning model. As you format the data, you should complete each item listed below. In your final report provide example(s) of the reformatted data with a short description of the changes made.\n",
        "Filter the dataset to respondents that have seen at least one film.\n",
        "Create a new column that converts the age ranges to a single number. Drop the age range categorical column.\n",
        "Create a new column that converts the education groupings to a single number. Drop the school categorical column\n",
        "Create a new column that converts the income ranges to a single number. Drop the income range categorical column.\n",
        "Create your target (also known as “y” or “label”) column based on the new income range column.\n",
        "One-hot encode all remaining categorical columns.__\n",
        "\n",
        "_type your results and analysis here_\n"
      ]
    },
    {
      "cell_type": "code",
      "execution_count": null,
      "id": "GQ2",
      "metadata": {},
      "outputs": [],
      "source": [
        "#| label: GQ2\n",
        "#| code-summary: Format and Filter Data\n",
        "\n",
        "# Include and execute your code here\n",
        "dat = []"
      ]
    },
    {
      "cell_type": "markdown",
      "id": "494d0d6b",
      "metadata": {},
      "source": [
        "_include figures in chunks and discuss your findings in the figure._\n"
      ]
    },
    {
      "cell_type": "code",
      "execution_count": null,
      "id": "GQ2-chart",
      "metadata": {},
      "outputs": [],
      "source": [
        "#| label: GQ2 chart\n",
        "#| code-summary: plot example\n",
        "#| fig-cap: My useless chart\n",
        "#| fig-align: center\n",
        "# Include and execute your code here\n",
        "alt.Chart(dat.head(200))\\\n",
        "    .encode(x = \"name\", y = \"AK\")\\\n",
        "    .mark_bar()"
      ]
    },
    {
      "cell_type": "code",
      "execution_count": null,
      "id": "GQ2-table",
      "metadata": {},
      "outputs": [],
      "source": [
        "#| label: GQ2 table\n",
        "#| code-summary: table example\n",
        "#| tbl-cap: Not much of a table\n",
        "#| tbl-cap-location: top\n",
        "# Include and execute your code here\n",
        "mydat = dat.head(1000)\\\n",
        "    .groupby('year')\\\n",
        "    .sum()\\\n",
        "    .reset_index()\\\n",
        "    .tail(10)\\\n",
        "    .filter([\"year\", \"AK\",\"AR\"])\n",
        "\n",
        "display(mydat)"
      ]
    },
    {
      "cell_type": "markdown",
      "id": "414f1a2d",
      "metadata": {},
      "source": [
        "## GRAND QUESTION 3\n",
        "\n",
        "__COPY PASTE GRAND QUESTION FROM THE PROJECT HERE__\n",
        "\n",
        "_type your results and analysis here_\n"
      ]
    },
    {
      "cell_type": "code",
      "execution_count": null,
      "id": "GQ3",
      "metadata": {},
      "outputs": [],
      "source": [
        "#| label: GQ3\n",
        "#| code-summary: Format and Filter Data\n",
        "\n",
        "# Include and execute your code here\n"
      ]
    },
    {
      "cell_type": "markdown",
      "id": "37697702",
      "metadata": {},
      "source": [
        "_include figures in chunks and discuss your findings in the figure._\n"
      ]
    },
    {
      "cell_type": "code",
      "execution_count": null,
      "id": "GQ3-chart",
      "metadata": {},
      "outputs": [],
      "source": [
        "#| label: GQ3 chart\n",
        "#| code-summary: plot example\n",
        "#| fig-cap: My useless chart\n",
        "#| fig-align: center\n",
        "# Include and execute your code here\n",
        "alt.Chart(dat.head(200))\\\n",
        "    .encode(x = \"name\", y = \"AK\")\\\n",
        "    .mark_bar()"
      ]
    },
    {
      "cell_type": "code",
      "execution_count": null,
      "id": "GQ3-table",
      "metadata": {},
      "outputs": [],
      "source": [
        "#| label: GQ3 table\n",
        "#| code-summary: table example\n",
        "#| tbl-cap: Not much of a table\n",
        "#| tbl-cap-location: top\n",
        "# Include and execute your code here\n",
        "mydat = dat.head(1000)\\\n",
        "    .groupby('year')\\\n",
        "    .sum()\\\n",
        "    .reset_index()\\\n",
        "    .tail(10)\\\n",
        "    .filter([\"year\", \"AK\",\"AR\"])\n",
        "\n",
        "display(mydat)"
      ]
    },
    {
      "cell_type": "markdown",
      "id": "37a7bbc2",
      "metadata": {},
      "source": [
        "## APPENDIX A (Additional Python Code)\n",
        "\n",
        "```python\n",
        "#paste other your code from your python file (.py) here\n",
        "```"
      ]
    }
  ],
  "metadata": {
    "kernelspec": {
      "display_name": "Python 3.10.7 64-bit",
      "language": "python",
      "name": "python3"
    },
    "language_info": {
      "name": "python",
      "version": "3.10.7"
    },
    "vscode": {
      "interpreter": {
        "hash": "bed7b23e98586b700738601233e86aa7136db34b46d5308ac465c4d713bb3d7a"
      }
    }
  },
  "nbformat": 4,
  "nbformat_minor": 5
}
