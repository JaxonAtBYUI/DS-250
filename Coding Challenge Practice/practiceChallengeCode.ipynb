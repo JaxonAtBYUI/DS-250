{
 "cells": [
  {
   "cell_type": "code",
   "execution_count": 38,
   "metadata": {},
   "outputs": [],
   "source": [
    "import pandas as pd\n",
    "import altair as alt\n",
    "import numpy as np\n",
    "\n",
    "dat = pd.read_csv('https://github.com/byuidatascience/data4missing/raw/master/data-raw/mtcars_missing/mtcars_missing.csv')"
   ]
  },
  {
   "cell_type": "code",
   "execution_count": 39,
   "metadata": {},
   "outputs": [
    {
     "data": {
      "text/html": [
       "\n",
       "<div id=\"altair-viz-afffdc7e3da14982acc808f03cafe363\"></div>\n",
       "<script type=\"text/javascript\">\n",
       "  var VEGA_DEBUG = (typeof VEGA_DEBUG == \"undefined\") ? {} : VEGA_DEBUG;\n",
       "  (function(spec, embedOpt){\n",
       "    let outputDiv = document.currentScript.previousElementSibling;\n",
       "    if (outputDiv.id !== \"altair-viz-afffdc7e3da14982acc808f03cafe363\") {\n",
       "      outputDiv = document.getElementById(\"altair-viz-afffdc7e3da14982acc808f03cafe363\");\n",
       "    }\n",
       "    const paths = {\n",
       "      \"vega\": \"https://cdn.jsdelivr.net/npm//vega@5?noext\",\n",
       "      \"vega-lib\": \"https://cdn.jsdelivr.net/npm//vega-lib?noext\",\n",
       "      \"vega-lite\": \"https://cdn.jsdelivr.net/npm//vega-lite@4.17.0?noext\",\n",
       "      \"vega-embed\": \"https://cdn.jsdelivr.net/npm//vega-embed@6?noext\",\n",
       "    };\n",
       "\n",
       "    function maybeLoadScript(lib, version) {\n",
       "      var key = `${lib.replace(\"-\", \"\")}_version`;\n",
       "      return (VEGA_DEBUG[key] == version) ?\n",
       "        Promise.resolve(paths[lib]) :\n",
       "        new Promise(function(resolve, reject) {\n",
       "          var s = document.createElement('script');\n",
       "          document.getElementsByTagName(\"head\")[0].appendChild(s);\n",
       "          s.async = true;\n",
       "          s.onload = () => {\n",
       "            VEGA_DEBUG[key] = version;\n",
       "            return resolve(paths[lib]);\n",
       "          };\n",
       "          s.onerror = () => reject(`Error loading script: ${paths[lib]}`);\n",
       "          s.src = paths[lib];\n",
       "        });\n",
       "    }\n",
       "\n",
       "    function showError(err) {\n",
       "      outputDiv.innerHTML = `<div class=\"error\" style=\"color:red;\">${err}</div>`;\n",
       "      throw err;\n",
       "    }\n",
       "\n",
       "    function displayChart(vegaEmbed) {\n",
       "      vegaEmbed(outputDiv, spec, embedOpt)\n",
       "        .catch(err => showError(`Javascript Error: ${err.message}<br>This usually means there's a typo in your chart specification. See the javascript console for the full traceback.`));\n",
       "    }\n",
       "\n",
       "    if(typeof define === \"function\" && define.amd) {\n",
       "      requirejs.config({paths});\n",
       "      require([\"vega-embed\"], displayChart, err => showError(`Error loading script: ${err.message}`));\n",
       "    } else {\n",
       "      maybeLoadScript(\"vega\", \"5\")\n",
       "        .then(() => maybeLoadScript(\"vega-lite\", \"4.17.0\"))\n",
       "        .then(() => maybeLoadScript(\"vega-embed\", \"6\"))\n",
       "        .catch(showError)\n",
       "        .then(() => displayChart(vegaEmbed));\n",
       "    }\n",
       "  })({\"config\": {\"view\": {\"continuousWidth\": 400, \"continuousHeight\": 300}}, \"layer\": [{\"data\": {\"name\": \"data-bdd3c9919188d3f9d3a90fe3b6f3797f\"}, \"mark\": {\"type\": \"circle\", \"color\": \"red\", \"size\": 60}, \"encoding\": {\"x\": {\"field\": \"hp\", \"title\": \"Horse Power\", \"type\": \"quantitative\"}, \"y\": {\"field\": \"mpg\", \"title\": \"Miles per Gallon\", \"type\": \"quantitative\"}}, \"title\": \"This is awsome\"}, {\"data\": {\"name\": \"data-d751713988987e9331980363e24189ce\"}, \"mark\": \"rule\", \"encoding\": {\"x\": {\"field\": \"hp\", \"type\": \"ordinal\"}}, \"title\": \"Big\"}, {\"data\": {\"name\": \"data-d751713988987e9331980363e24189ce\"}, \"mark\": \"rule\", \"encoding\": {\"x\": {\"field\": \"hp\", \"type\": \"ordinal\"}}, \"title\": \"Really Big\"}], \"$schema\": \"https://vega.github.io/schema/vega-lite/v4.17.0.json\", \"datasets\": {\"data-bdd3c9919188d3f9d3a90fe3b6f3797f\": [{\"car\": \"Mazda RX4\", \"mpg\": 21.0, \"cyl\": 6, \"disp\": 160.0, \"hp\": 110.0, \"drat\": 3.9, \"wt\": 2.62, \"qsec\": 16.46, \"vs\": 0.0, \"am\": 1, \"gear\": 4, \"carb\": 4}, {\"car\": \"Mazda RX4 Wag\", \"mpg\": 21.0, \"cyl\": 6, \"disp\": 160.0, \"hp\": 110.0, \"drat\": 3.9, \"wt\": 2.875, \"qsec\": 17.02, \"vs\": null, \"am\": 1, \"gear\": 4, \"carb\": 4}, {\"car\": \"Datsun 710\", \"mpg\": 22.8, \"cyl\": 4, \"disp\": 108.0, \"hp\": 93.0, \"drat\": 3.85, \"wt\": 2.32, \"qsec\": 18.61, \"vs\": 1.0, \"am\": 1, \"gear\": 999, \"carb\": 1}, {\"car\": \"Hornet 4 Drive\", \"mpg\": 21.4, \"cyl\": 6, \"disp\": 258.0, \"hp\": 110.0, \"drat\": 3.08, \"wt\": null, \"qsec\": 19.44, \"vs\": 1.0, \"am\": 0, \"gear\": 3, \"carb\": 1}, {\"car\": \"Hornet Sportabout\", \"mpg\": 18.7, \"cyl\": 8, \"disp\": 360.0, \"hp\": 175.0, \"drat\": 3.15, \"wt\": 3.44, \"qsec\": 17.02, \"vs\": 0.0, \"am\": 0, \"gear\": 3, \"carb\": 2}, {\"car\": \"Valiant\", \"mpg\": 18.1, \"cyl\": 6, \"disp\": 225.0, \"hp\": 105.0, \"drat\": 2.76, \"wt\": null, \"qsec\": 20.22, \"vs\": 1.0, \"am\": 0, \"gear\": 3, \"carb\": 1}, {\"car\": \"Merc 230\", \"mpg\": 22.8, \"cyl\": 4, \"disp\": 140.8, \"hp\": 95.0, \"drat\": 3.92, \"wt\": 3.15, \"qsec\": 22.9, \"vs\": 1.0, \"am\": 0, \"gear\": 4, \"carb\": 2}, {\"car\": \"Merc 280\", \"mpg\": 19.2, \"cyl\": 6, \"disp\": 167.6, \"hp\": 123.0, \"drat\": 3.92, \"wt\": null, \"qsec\": 18.3, \"vs\": 1.0, \"am\": 0, \"gear\": 4, \"carb\": 4}, {\"car\": \"Merc 280C\", \"mpg\": 17.8, \"cyl\": 6, \"disp\": 167.6, \"hp\": 123.0, \"drat\": 3.92, \"wt\": 3.44, \"qsec\": 18.9, \"vs\": null, \"am\": 0, \"gear\": 4, \"carb\": 4}, {\"car\": \"Merc 450SE\", \"mpg\": 16.4, \"cyl\": 8, \"disp\": 275.8, \"hp\": 180.0, \"drat\": 3.07, \"wt\": 4.07, \"qsec\": 17.4, \"vs\": 0.0, \"am\": 0, \"gear\": 3, \"carb\": 3}, {\"car\": \"Merc 450SL\", \"mpg\": 17.3, \"cyl\": 8, \"disp\": 275.8, \"hp\": 180.0, \"drat\": 3.07, \"wt\": null, \"qsec\": 17.6, \"vs\": 0.0, \"am\": 0, \"gear\": 3, \"carb\": 3}, {\"car\": \"Merc 450SLC\", \"mpg\": 15.2, \"cyl\": 8, \"disp\": 275.8, \"hp\": 180.0, \"drat\": 3.07, \"wt\": null, \"qsec\": 18.0, \"vs\": 0.0, \"am\": 0, \"gear\": 3, \"carb\": 3}, {\"car\": \"Cadillac Fleetwood\", \"mpg\": 10.4, \"cyl\": 8, \"disp\": 472.0, \"hp\": 110.0, \"drat\": 2.93, \"wt\": 5.25, \"qsec\": 17.98, \"vs\": null, \"am\": 0, \"gear\": 3, \"carb\": 4}, {\"car\": \"Lincoln Continental\", \"mpg\": 10.4, \"cyl\": 8, \"disp\": 460.0, \"hp\": 110.0, \"drat\": 3.0, \"wt\": null, \"qsec\": 17.82, \"vs\": 0.0, \"am\": 0, \"gear\": 3, \"carb\": 4}, {\"car\": \"Chrysler Imperial\", \"mpg\": 14.7, \"cyl\": 8, \"disp\": 440.0, \"hp\": 110.0, \"drat\": 3.23, \"wt\": null, \"qsec\": 17.42, \"vs\": 0.0, \"am\": 0, \"gear\": 3, \"carb\": 4}, {\"car\": \"Fiat 128\", \"mpg\": 32.4, \"cyl\": 4, \"disp\": 78.7, \"hp\": 66.0, \"drat\": 4.08, \"wt\": 2.2, \"qsec\": 19.47, \"vs\": 1.0, \"am\": 1, \"gear\": 999, \"carb\": 1}, {\"car\": \"Toyota Corolla\", \"mpg\": 33.9, \"cyl\": 4, \"disp\": 71.1, \"hp\": 65.0, \"drat\": 4.22, \"wt\": 1.835, \"qsec\": 19.9, \"vs\": 1.0, \"am\": 1, \"gear\": 999, \"carb\": 1}, {\"car\": \"Toyota Corona\", \"mpg\": 21.5, \"cyl\": 4, \"disp\": 120.1, \"hp\": 97.0, \"drat\": 3.7, \"wt\": null, \"qsec\": 20.01, \"vs\": 1.0, \"am\": 0, \"gear\": 3, \"carb\": 1}, {\"car\": \"Dodge Challenger\", \"mpg\": 15.5, \"cyl\": 8, \"disp\": 318.0, \"hp\": 150.0, \"drat\": 2.76, \"wt\": 3.52, \"qsec\": 16.87, \"vs\": 0.0, \"am\": 0, \"gear\": 3, \"carb\": 2}, {\"car\": \"Camaro Z28\", \"mpg\": 13.3, \"cyl\": 8, \"disp\": 350.0, \"hp\": 110.0, \"drat\": 3.73, \"wt\": null, \"qsec\": 15.41, \"vs\": 0.0, \"am\": 0, \"gear\": 3, \"carb\": 4}, {\"car\": \"Pontiac Firebird\", \"mpg\": 19.2, \"cyl\": 8, \"disp\": 400.0, \"hp\": 175.0, \"drat\": 3.08, \"wt\": 3.845, \"qsec\": 17.05, \"vs\": null, \"am\": 0, \"gear\": 3, \"carb\": 2}, {\"car\": \"Fiat X1-9\", \"mpg\": 27.3, \"cyl\": 4, \"disp\": 79.0, \"hp\": 66.0, \"drat\": 4.08, \"wt\": null, \"qsec\": 18.9, \"vs\": 1.0, \"am\": 1, \"gear\": 999, \"carb\": 1}, {\"car\": \"Porsche 914-2\", \"mpg\": 26.0, \"cyl\": 4, \"disp\": 120.3, \"hp\": 91.0, \"drat\": 4.43, \"wt\": 2.14, \"qsec\": 16.7, \"vs\": 0.0, \"am\": 1, \"gear\": 999, \"carb\": 2}, {\"car\": \"Lotus Europa\", \"mpg\": 30.4, \"cyl\": 4, \"disp\": 95.1, \"hp\": 113.0, \"drat\": 3.77, \"wt\": null, \"qsec\": 16.9, \"vs\": 1.0, \"am\": 1, \"gear\": 999, \"carb\": 2}, {\"car\": \"Ford Pantera L\", \"mpg\": 15.8, \"cyl\": 8, \"disp\": 351.0, \"hp\": 110.0, \"drat\": 4.22, \"wt\": null, \"qsec\": 14.5, \"vs\": 0.0, \"am\": 1, \"gear\": 5, \"carb\": 4}, {\"car\": \"Ferrari Dino\", \"mpg\": 19.7, \"cyl\": 6, \"disp\": 145.0, \"hp\": 175.0, \"drat\": 3.62, \"wt\": 2.77, \"qsec\": 15.5, \"vs\": null, \"am\": 1, \"gear\": 5, \"carb\": 6}, {\"car\": \"Maserati Bora\", \"mpg\": 15.0, \"cyl\": 8, \"disp\": 301.0, \"hp\": 110.0, \"drat\": 3.54, \"wt\": null, \"qsec\": 14.6, \"vs\": null, \"am\": 1, \"gear\": 5, \"carb\": 8}, {\"car\": \"Volvo 142E\", \"mpg\": 21.4, \"cyl\": 4, \"disp\": 121.0, \"hp\": 109.0, \"drat\": 4.11, \"wt\": 2.78, \"qsec\": 18.6, \"vs\": 1.0, \"am\": 1, \"gear\": 999, \"carb\": 2}], \"data-d751713988987e9331980363e24189ce\": []}}, {\"mode\": \"vega-lite\"});\n",
       "</script>"
      ],
      "text/plain": [
       "alt.LayerChart(...)"
      ]
     },
     "execution_count": 39,
     "metadata": {},
     "output_type": "execute_result"
    }
   ],
   "source": [
    "dat[['hp']] = dat[['hp']].fillna(value=dat['hp'].median())\n",
    "dat2 = dat.dropna(subset=['car'])\n",
    "\n",
    "chart = (alt.Chart(dat2, title=\"This is awsome\")\n",
    "    .mark_circle(size=60, color='red')\n",
    "    .encode(\n",
    "    x = alt.X(('hp'), title=\"Horse Power\"),\n",
    "    y = alt.Y('mpg', title=\"Miles per Gallon\")\n",
    "    )\n",
    ")\n",
    "\n",
    "line1 = alt.Chart(dat2.query('hp == 80'), title= \"Big\").mark_rule().encode(x='hp:O')\n",
    "line2 = alt.Chart(dat2.query('hp == 160'), title=\"Really Big\").mark_rule().encode(x=\"hp:O\")\n",
    "\n",
    "chart + line1 + line2"
   ]
  },
  {
   "cell_type": "code",
   "execution_count": 43,
   "metadata": {},
   "outputs": [
    {
     "ename": "TypeError",
     "evalue": "Must provide 'func' or tuples of '(column, aggfunc).",
     "output_type": "error",
     "traceback": [
      "\u001b[1;31m---------------------------------------------------------------------------\u001b[0m",
      "\u001b[1;31mTypeError\u001b[0m                                 Traceback (most recent call last)",
      "Cell \u001b[1;32mIn [43], line 1\u001b[0m\n\u001b[1;32m----> 1\u001b[0m dat3 \u001b[39m=\u001b[39m (dat\n\u001b[0;32m      2\u001b[0m     \u001b[39m.\u001b[39;49mgroupby(\u001b[39m'\u001b[39;49m\u001b[39mcyl\u001b[39;49m\u001b[39m'\u001b[39;49m)\n\u001b[0;32m      3\u001b[0m     \u001b[39m.\u001b[39;49magg(\n\u001b[0;32m      4\u001b[0m         one \u001b[39m=\u001b[39;49m (\u001b[39m\"\u001b[39;49m\u001b[39mcarb\u001b[39;49m\u001b[39m\"\u001b[39;49m) \n\u001b[0;32m      5\u001b[0m     )\n\u001b[0;32m      6\u001b[0m )\n",
      "File \u001b[1;32mc:\\Users\\jaxon\\AppData\\Local\\Programs\\Python\\Python310\\lib\\site-packages\\pandas\\core\\groupby\\generic.py:865\u001b[0m, in \u001b[0;36mDataFrameGroupBy.aggregate\u001b[1;34m(self, func, engine, engine_kwargs, *args, **kwargs)\u001b[0m\n\u001b[0;32m    862\u001b[0m     index \u001b[39m=\u001b[39m \u001b[39mself\u001b[39m\u001b[39m.\u001b[39mgrouper\u001b[39m.\u001b[39mresult_index\n\u001b[0;32m    863\u001b[0m     \u001b[39mreturn\u001b[39;00m \u001b[39mself\u001b[39m\u001b[39m.\u001b[39mobj\u001b[39m.\u001b[39m_constructor(result, index\u001b[39m=\u001b[39mindex, columns\u001b[39m=\u001b[39mdata\u001b[39m.\u001b[39mcolumns)\n\u001b[1;32m--> 865\u001b[0m relabeling, func, columns, order \u001b[39m=\u001b[39m reconstruct_func(func, \u001b[39m*\u001b[39m\u001b[39m*\u001b[39mkwargs)\n\u001b[0;32m    866\u001b[0m func \u001b[39m=\u001b[39m maybe_mangle_lambdas(func)\n\u001b[0;32m    868\u001b[0m op \u001b[39m=\u001b[39m GroupByApply(\u001b[39mself\u001b[39m, func, args, kwargs)\n",
      "File \u001b[1;32mc:\\Users\\jaxon\\AppData\\Local\\Programs\\Python\\Python310\\lib\\site-packages\\pandas\\core\\apply.py:1266\u001b[0m, in \u001b[0;36mreconstruct_func\u001b[1;34m(func, **kwargs)\u001b[0m\n\u001b[0;32m   1260\u001b[0m         \u001b[39mraise\u001b[39;00m SpecificationError(\n\u001b[0;32m   1261\u001b[0m             \u001b[39m\"\u001b[39m\u001b[39mFunction names must be unique if there is no new column names \u001b[39m\u001b[39m\"\u001b[39m\n\u001b[0;32m   1262\u001b[0m             \u001b[39m\"\u001b[39m\u001b[39massigned\u001b[39m\u001b[39m\"\u001b[39m\n\u001b[0;32m   1263\u001b[0m         )\n\u001b[0;32m   1264\u001b[0m     \u001b[39melif\u001b[39;00m func \u001b[39mis\u001b[39;00m \u001b[39mNone\u001b[39;00m:\n\u001b[0;32m   1265\u001b[0m         \u001b[39m# nicer error message\u001b[39;00m\n\u001b[1;32m-> 1266\u001b[0m         \u001b[39mraise\u001b[39;00m \u001b[39mTypeError\u001b[39;00m(\u001b[39m\"\u001b[39m\u001b[39mMust provide \u001b[39m\u001b[39m'\u001b[39m\u001b[39mfunc\u001b[39m\u001b[39m'\u001b[39m\u001b[39m or tuples of \u001b[39m\u001b[39m'\u001b[39m\u001b[39m(column, aggfunc).\u001b[39m\u001b[39m\"\u001b[39m)\n\u001b[0;32m   1268\u001b[0m \u001b[39mif\u001b[39;00m relabeling:\n\u001b[0;32m   1269\u001b[0m     func, columns, order \u001b[39m=\u001b[39m normalize_keyword_aggregation(kwargs)\n",
      "\u001b[1;31mTypeError\u001b[0m: Must provide 'func' or tuples of '(column, aggfunc)."
     ]
    }
   ],
   "source": []
  }
 ],
 "metadata": {
  "kernelspec": {
   "display_name": "Python 3.10.7 64-bit",
   "language": "python",
   "name": "python3"
  },
  "language_info": {
   "codemirror_mode": {
    "name": "ipython",
    "version": 3
   },
   "file_extension": ".py",
   "mimetype": "text/x-python",
   "name": "python",
   "nbconvert_exporter": "python",
   "pygments_lexer": "ipython3",
   "version": "3.10.7"
  },
  "orig_nbformat": 4,
  "vscode": {
   "interpreter": {
    "hash": "bed7b23e98586b700738601233e86aa7136db34b46d5308ac465c4d713bb3d7a"
   }
  }
 },
 "nbformat": 4,
 "nbformat_minor": 2
}
