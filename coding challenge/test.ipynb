{
 "cells": [
  {
   "cell_type": "code",
   "execution_count": 1,
   "metadata": {},
   "outputs": [],
   "source": [
    "import altair as alt\n",
    "import pandas as pd\n",
    "import numpy as np\n",
    "import matplotlib\n",
    "\n",
    "from sklearn.model_selection import train_test_split\n",
    "from sklearn.ensemble import RandomForestClassifier\n",
    "from sklearn import metrics"
   ]
  },
  {
   "cell_type": "code",
   "execution_count": 2,
   "metadata": {},
   "outputs": [],
   "source": [
    "names = pd.read_csv(\"names_year.csv\")"
   ]
  },
  {
   "cell_type": "code",
   "execution_count": 4,
   "metadata": {},
   "outputs": [],
   "source": [
    "kobe = (names.query(\"name == 'Kobe'\").filter(items=[\"name\", \"year\", \"Total\"]))\n"
   ]
  },
  {
   "cell_type": "code",
   "execution_count": 10,
   "metadata": {},
   "outputs": [],
   "source": [
    "kobe = (kobe.assign(age = 2022 - kobe.year))\n",
    "kobe2 = (kobe.query(\"age >= 18 and age < 26\"))"
   ]
  },
  {
   "cell_type": "code",
   "execution_count": 24,
   "metadata": {},
   "outputs": [
    {
     "data": {
      "text/html": [
       "\n",
       "<div id=\"altair-viz-d34dfb1d325c42cf9260c96471620c5f\"></div>\n",
       "<script type=\"text/javascript\">\n",
       "  var VEGA_DEBUG = (typeof VEGA_DEBUG == \"undefined\") ? {} : VEGA_DEBUG;\n",
       "  (function(spec, embedOpt){\n",
       "    let outputDiv = document.currentScript.previousElementSibling;\n",
       "    if (outputDiv.id !== \"altair-viz-d34dfb1d325c42cf9260c96471620c5f\") {\n",
       "      outputDiv = document.getElementById(\"altair-viz-d34dfb1d325c42cf9260c96471620c5f\");\n",
       "    }\n",
       "    const paths = {\n",
       "      \"vega\": \"https://cdn.jsdelivr.net/npm//vega@5?noext\",\n",
       "      \"vega-lib\": \"https://cdn.jsdelivr.net/npm//vega-lib?noext\",\n",
       "      \"vega-lite\": \"https://cdn.jsdelivr.net/npm//vega-lite@4.17.0?noext\",\n",
       "      \"vega-embed\": \"https://cdn.jsdelivr.net/npm//vega-embed@6?noext\",\n",
       "    };\n",
       "\n",
       "    function maybeLoadScript(lib, version) {\n",
       "      var key = `${lib.replace(\"-\", \"\")}_version`;\n",
       "      return (VEGA_DEBUG[key] == version) ?\n",
       "        Promise.resolve(paths[lib]) :\n",
       "        new Promise(function(resolve, reject) {\n",
       "          var s = document.createElement('script');\n",
       "          document.getElementsByTagName(\"head\")[0].appendChild(s);\n",
       "          s.async = true;\n",
       "          s.onload = () => {\n",
       "            VEGA_DEBUG[key] = version;\n",
       "            return resolve(paths[lib]);\n",
       "          };\n",
       "          s.onerror = () => reject(`Error loading script: ${paths[lib]}`);\n",
       "          s.src = paths[lib];\n",
       "        });\n",
       "    }\n",
       "\n",
       "    function showError(err) {\n",
       "      outputDiv.innerHTML = `<div class=\"error\" style=\"color:red;\">${err}</div>`;\n",
       "      throw err;\n",
       "    }\n",
       "\n",
       "    function displayChart(vegaEmbed) {\n",
       "      vegaEmbed(outputDiv, spec, embedOpt)\n",
       "        .catch(err => showError(`Javascript Error: ${err.message}<br>This usually means there's a typo in your chart specification. See the javascript console for the full traceback.`));\n",
       "    }\n",
       "\n",
       "    if(typeof define === \"function\" && define.amd) {\n",
       "      requirejs.config({paths});\n",
       "      require([\"vega-embed\"], displayChart, err => showError(`Error loading script: ${err.message}`));\n",
       "    } else {\n",
       "      maybeLoadScript(\"vega\", \"5\")\n",
       "        .then(() => maybeLoadScript(\"vega-lite\", \"4.17.0\"))\n",
       "        .then(() => maybeLoadScript(\"vega-embed\", \"6\"))\n",
       "        .catch(showError)\n",
       "        .then(() => displayChart(vegaEmbed));\n",
       "    }\n",
       "  })({\"config\": {\"view\": {\"continuousWidth\": 400, \"continuousHeight\": 300}, \"title\": {\"color\": \"red\", \"fontSize\": 16, \"subtitleColor\": \"green\"}}, \"layer\": [{\"data\": {\"name\": \"data-60ee2d1ab0a61547addee75c7ba0670e\"}, \"mark\": {\"type\": \"area\", \"color\": \"lightgreen\"}, \"encoding\": {\"x\": {\"field\": \"age\", \"type\": \"quantitative\"}, \"y\": {\"field\": \"Total\", \"type\": \"quantitative\"}}}, {\"data\": {\"name\": \"data-0d7b49c5f3da2daf998e7602f81c8302\"}, \"mark\": {\"type\": \"line\", \"color\": \"green\"}, \"encoding\": {\"x\": {\"field\": \"age\", \"title\": \"Age\", \"type\": \"quantitative\"}, \"y\": {\"field\": \"Total\", \"title\": \"Frequency\", \"type\": \"quantitative\"}}, \"title\": {\"text\": [\"Likely Age of Someone Named Kobe\"], \"subtitle\": [\"Who isn't Kobe Bryant\"]}}], \"$schema\": \"https://vega.github.io/schema/vega-lite/v4.17.0.json\", \"datasets\": {\"data-60ee2d1ab0a61547addee75c7ba0670e\": [{\"name\": \"Kobe\", \"year\": 1997, \"Total\": 304.0, \"age\": 25}, {\"name\": \"Kobe\", \"year\": 1998, \"Total\": 1093.0, \"age\": 24}, {\"name\": \"Kobe\", \"year\": 1999, \"Total\": 829.0, \"age\": 23}, {\"name\": \"Kobe\", \"year\": 2000, \"Total\": 1337.5, \"age\": 22}, {\"name\": \"Kobe\", \"year\": 2001, \"Total\": 1538.0, \"age\": 21}, {\"name\": \"Kobe\", \"year\": 2002, \"Total\": 1383.0, \"age\": 20}, {\"name\": \"Kobe\", \"year\": 2003, \"Total\": 1199.0, \"age\": 19}, {\"name\": \"Kobe\", \"year\": 2004, \"Total\": 594.0, \"age\": 18}], \"data-0d7b49c5f3da2daf998e7602f81c8302\": [{\"name\": \"Kobe\", \"year\": 1996, \"Total\": 37.0, \"age\": 26}, {\"name\": \"Kobe\", \"year\": 1997, \"Total\": 304.0, \"age\": 25}, {\"name\": \"Kobe\", \"year\": 1998, \"Total\": 1093.0, \"age\": 24}, {\"name\": \"Kobe\", \"year\": 1999, \"Total\": 829.0, \"age\": 23}, {\"name\": \"Kobe\", \"year\": 2000, \"Total\": 1337.5, \"age\": 22}, {\"name\": \"Kobe\", \"year\": 2001, \"Total\": 1538.0, \"age\": 21}, {\"name\": \"Kobe\", \"year\": 2002, \"Total\": 1383.0, \"age\": 20}, {\"name\": \"Kobe\", \"year\": 2003, \"Total\": 1199.0, \"age\": 19}, {\"name\": \"Kobe\", \"year\": 2004, \"Total\": 594.0, \"age\": 18}, {\"name\": \"Kobe\", \"year\": 2005, \"Total\": 411.0, \"age\": 17}, {\"name\": \"Kobe\", \"year\": 2006, \"Total\": 429.0, \"age\": 16}, {\"name\": \"Kobe\", \"year\": 2007, \"Total\": 534.0, \"age\": 15}, {\"name\": \"Kobe\", \"year\": 2008, \"Total\": 706.0, \"age\": 14}, {\"name\": \"Kobe\", \"year\": 2009, \"Total\": 649.0, \"age\": 13}, {\"name\": \"Kobe\", \"year\": 2010, \"Total\": 616.0, \"age\": 12}, {\"name\": \"Kobe\", \"year\": 2011, \"Total\": 510.0, \"age\": 11}, {\"name\": \"Kobe\", \"year\": 2012, \"Total\": 509.0, \"age\": 10}, {\"name\": \"Kobe\", \"year\": 2013, \"Total\": 512.0, \"age\": 9}, {\"name\": \"Kobe\", \"year\": 2014, \"Total\": 472.0, \"age\": 8}, {\"name\": \"Kobe\", \"year\": 2015, \"Total\": 422.0, \"age\": 7}]}}, {\"mode\": \"vega-lite\"});\n",
       "</script>"
      ],
      "text/plain": [
       "alt.LayerChart(...)"
      ]
     },
     "execution_count": 24,
     "metadata": {},
     "output_type": "execute_result"
    }
   ],
   "source": [
    "chart2 = alt.Chart(kobe).mark_line(color=\"green\").encode(\n",
    "    alt.X('age', title=\"Age\" ),\n",
    "    alt.Y('Total:Q', title=\"Frequency\")\n",
    ").properties(\n",
    "    title={\n",
    "      \"text\": [\"Likely Age of Someone Named Kobe\"], \n",
    "      \"subtitle\": [\"Who isn't Kobe Bryant\"]\n",
    "    }\n",
    ")\n",
    "\n",
    "\n",
    "chart1 = alt.Chart(kobe2).mark_area(color='lightgreen'\n",
    ").encode(\n",
    "    alt.X('age'),\n",
    "    alt.Y('Total:Q')\n",
    ")\n",
    "chart3 = chart1 + chart2\n",
    "\n",
    "chart3.configure_title(\n",
    "    fontSize=16,\n",
    "    color='red',\n",
    "    subtitleColor='green'\n",
    ")"
   ]
  },
  {
   "cell_type": "code",
   "execution_count": 40,
   "metadata": {},
   "outputs": [
    {
     "name": "stdout",
     "output_type": "stream",
     "text": [
      "Mean: steve    20.090909\n",
      "dtype: float64\n",
      " Standard Deviation: steve    14.209015\n",
      "dtype: float64\n"
     ]
    }
   ],
   "source": [
    "steve = pd.DataFrame({\"steve\": ['N/A', 15, 22, 45, 31, -999, 21, 2, 0, 0, 0, 'broken', 19, 19, 36, 27, 0, np.nan, 0, 33, 42, -999]})\n",
    "\n",
    "steve = (steve\n",
    "    # generic data fixing\n",
    "    .replace(-999, np.nan)\n",
    "    .replace(\"N/A\", np.nan)\n",
    "    .replace(\"broken\", np.nan)\n",
    ")\n",
    "steve = steve.replace(np.nan, steve.query(\"steve != 0\").mean()\n",
    ")\n",
    "\n",
    "print(f\"Mean: {steve.mean()}\\n Standard Deviation: {steve.std()}\")\n"
   ]
  },
  {
   "cell_type": "code",
   "execution_count": 46,
   "metadata": {},
   "outputs": [
    {
     "data": {
      "text/html": [
       "\n",
       "<div id=\"altair-viz-ffbb56904c414b6e80650312fac6731f\"></div>\n",
       "<script type=\"text/javascript\">\n",
       "  var VEGA_DEBUG = (typeof VEGA_DEBUG == \"undefined\") ? {} : VEGA_DEBUG;\n",
       "  (function(spec, embedOpt){\n",
       "    let outputDiv = document.currentScript.previousElementSibling;\n",
       "    if (outputDiv.id !== \"altair-viz-ffbb56904c414b6e80650312fac6731f\") {\n",
       "      outputDiv = document.getElementById(\"altair-viz-ffbb56904c414b6e80650312fac6731f\");\n",
       "    }\n",
       "    const paths = {\n",
       "      \"vega\": \"https://cdn.jsdelivr.net/npm//vega@5?noext\",\n",
       "      \"vega-lib\": \"https://cdn.jsdelivr.net/npm//vega-lib?noext\",\n",
       "      \"vega-lite\": \"https://cdn.jsdelivr.net/npm//vega-lite@4.17.0?noext\",\n",
       "      \"vega-embed\": \"https://cdn.jsdelivr.net/npm//vega-embed@6?noext\",\n",
       "    };\n",
       "\n",
       "    function maybeLoadScript(lib, version) {\n",
       "      var key = `${lib.replace(\"-\", \"\")}_version`;\n",
       "      return (VEGA_DEBUG[key] == version) ?\n",
       "        Promise.resolve(paths[lib]) :\n",
       "        new Promise(function(resolve, reject) {\n",
       "          var s = document.createElement('script');\n",
       "          document.getElementsByTagName(\"head\")[0].appendChild(s);\n",
       "          s.async = true;\n",
       "          s.onload = () => {\n",
       "            VEGA_DEBUG[key] = version;\n",
       "            return resolve(paths[lib]);\n",
       "          };\n",
       "          s.onerror = () => reject(`Error loading script: ${paths[lib]}`);\n",
       "          s.src = paths[lib];\n",
       "        });\n",
       "    }\n",
       "\n",
       "    function showError(err) {\n",
       "      outputDiv.innerHTML = `<div class=\"error\" style=\"color:red;\">${err}</div>`;\n",
       "      throw err;\n",
       "    }\n",
       "\n",
       "    function displayChart(vegaEmbed) {\n",
       "      vegaEmbed(outputDiv, spec, embedOpt)\n",
       "        .catch(err => showError(`Javascript Error: ${err.message}<br>This usually means there's a typo in your chart specification. See the javascript console for the full traceback.`));\n",
       "    }\n",
       "\n",
       "    if(typeof define === \"function\" && define.amd) {\n",
       "      requirejs.config({paths});\n",
       "      require([\"vega-embed\"], displayChart, err => showError(`Error loading script: ${err.message}`));\n",
       "    } else {\n",
       "      maybeLoadScript(\"vega\", \"5\")\n",
       "        .then(() => maybeLoadScript(\"vega-lite\", \"4.17.0\"))\n",
       "        .then(() => maybeLoadScript(\"vega-embed\", \"6\"))\n",
       "        .catch(showError)\n",
       "        .then(() => displayChart(vegaEmbed));\n",
       "    }\n",
       "  })({\"config\": {\"view\": {\"continuousWidth\": 400, \"continuousHeight\": 300}}, \"data\": {\"name\": \"data-5d6c987711084b17334d688a67aa1dec\"}, \"mark\": \"bar\", \"encoding\": {\"x\": {\"bin\": true, \"field\": \"steve\", \"title\": \"Steve\", \"type\": \"quantitative\"}, \"y\": {\"aggregate\": \"count\", \"title\": \"Count of Records\", \"type\": \"quantitative\"}}, \"$schema\": \"https://vega.github.io/schema/vega-lite/v4.17.0.json\", \"datasets\": {\"data-5d6c987711084b17334d688a67aa1dec\": [{\"steve\": 26.0}, {\"steve\": 15.0}, {\"steve\": 22.0}, {\"steve\": 45.0}, {\"steve\": 31.0}, {\"steve\": 26.0}, {\"steve\": 21.0}, {\"steve\": 2.0}, {\"steve\": 0.0}, {\"steve\": 0.0}, {\"steve\": 0.0}, {\"steve\": 26.0}, {\"steve\": 19.0}, {\"steve\": 19.0}, {\"steve\": 36.0}, {\"steve\": 27.0}, {\"steve\": 0.0}, {\"steve\": 26.0}, {\"steve\": 0.0}, {\"steve\": 33.0}, {\"steve\": 42.0}, {\"steve\": 26.0}]}}, {\"mode\": \"vega-lite\"});\n",
       "</script>"
      ],
      "text/plain": [
       "alt.Chart(...)"
      ]
     },
     "execution_count": 46,
     "metadata": {},
     "output_type": "execute_result"
    }
   ],
   "source": [
    "# alt.Chart(steve).mark_bar().encode(\n",
    "#     alt.X(\"steve:Q\", bin=True),\n",
    "#     y='count()',\n",
    "# )\n",
    "\n",
    "alt.Chart(steve).mark_bar().encode(\n",
    "    alt.X(\"steve:Q\", bin=True, title=\"Steve\"),\n",
    "    alt.Y('count()', title=\"Count of Records\")\n",
    ")"
   ]
  }
 ],
 "metadata": {
  "kernelspec": {
   "display_name": "Python 3",
   "language": "python",
   "name": "python3"
  },
  "language_info": {
   "codemirror_mode": {
    "name": "ipython",
    "version": 3
   },
   "file_extension": ".py",
   "mimetype": "text/x-python",
   "name": "python",
   "nbconvert_exporter": "python",
   "pygments_lexer": "ipython3",
   "version": "3.10.7 (tags/v3.10.7:6cc6b13, Sep  5 2022, 14:08:36) [MSC v.1933 64 bit (AMD64)]"
  },
  "orig_nbformat": 4,
  "vscode": {
   "interpreter": {
    "hash": "bed7b23e98586b700738601233e86aa7136db34b46d5308ac465c4d713bb3d7a"
   }
  }
 },
 "nbformat": 4,
 "nbformat_minor": 2
}
